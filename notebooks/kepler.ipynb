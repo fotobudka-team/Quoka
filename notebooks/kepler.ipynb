{
 "cells": [
  {
   "cell_type": "code",
   "execution_count": 1,
   "metadata": {},
   "outputs": [],
   "source": [
    "import pickle\n",
    "import sys\n",
    "\n",
    "sys.path.append(\"..\")"
   ]
  },
  {
   "cell_type": "code",
   "execution_count": 2,
   "metadata": {},
   "outputs": [],
   "source": [
    "df = pickle.load(open('./data/data.p', 'rb'))"
   ]
  },
  {
   "cell_type": "code",
   "execution_count": 3,
   "metadata": {},
   "outputs": [],
   "source": [
    "import keplergl\n",
    "\n",
    "from src.heatmap_generator import add_scale"
   ]
  },
  {
   "cell_type": "code",
   "execution_count": 22,
   "metadata": {},
   "outputs": [],
   "source": [
    "scales = {\"shop\": 200, \"hospital\": 1000, \"park\": 10000, \"station\": 200}\n",
    "df = add_scale(df, scales)"
   ]
  },
  {
   "cell_type": "code",
   "execution_count": 23,
   "metadata": {},
   "outputs": [],
   "source": [
    "df['scaled_1'] = df[['scaled shop', 'scaled hospital', 'scaled park', 'scaled station']].mean(axis=1)"
   ]
  },
  {
   "cell_type": "code",
   "execution_count": 24,
   "metadata": {},
   "outputs": [
    {
     "name": "stdout",
     "output_type": "stream",
     "text": [
      "User Guide: https://docs.kepler.gl/docs/keplergl-jupyter\n"
     ]
    }
   ],
   "source": [
    "kepler_map = keplergl.KeplerGl(height=800, data={\"data_1\": df})\n",
    "kepler_map.config = conf"
   ]
  },
  {
   "cell_type": "code",
   "execution_count": 25,
   "metadata": {},
   "outputs": [
    {
     "data": {
      "application/vnd.jupyter.widget-view+json": {
       "model_id": "bdb32fd972e7429ea11818a683b90061",
       "version_major": 2,
       "version_minor": 0
      },
      "text/plain": [
       "KeplerGl(config={'version': 'v1', 'config': {'visState': {'filters': [], 'layers': [{'id': 'o5fsp5u', 'type': …"
      ]
     },
     "execution_count": 25,
     "metadata": {},
     "output_type": "execute_result"
    }
   ],
   "source": [
    "kepler_map"
   ]
  },
  {
   "cell_type": "code",
   "execution_count": 26,
   "metadata": {},
   "outputs": [
    {
     "name": "stdout",
     "output_type": "stream",
     "text": [
      "Map saved to heatmap.html!\n"
     ]
    }
   ],
   "source": [
    "kepler_map.save_to_html(file_name='heatmap.html', data={'data_1': df}, config=kepler_map.config)"
   ]
  },
  {
   "cell_type": "code",
   "execution_count": 45,
   "metadata": {},
   "outputs": [
    {
     "data": {
      "text/plain": [
       "{'version': 'v1',\n",
       " 'config': {'visState': {'filters': [],\n",
       "   'layers': [{'id': 'o5fsp5u',\n",
       "     'type': 'hexagon',\n",
       "     'config': {'dataId': 'data_1',\n",
       "      'label': 'point',\n",
       "      'color': [248, 149, 112],\n",
       "      'highlightColor': [252, 242, 26, 255],\n",
       "      'columns': {'lat': 'lat', 'lng': 'lon'},\n",
       "      'isVisible': True,\n",
       "      'visConfig': {'opacity': 0.8,\n",
       "       'worldUnitSize': 0.05,\n",
       "       'resolution': 8,\n",
       "       'colorRange': {'name': 'Global Warming',\n",
       "        'type': 'sequential',\n",
       "        'category': 'Uber',\n",
       "        'colors': ['#5A1846',\n",
       "         '#900C3F',\n",
       "         '#C70039',\n",
       "         '#E3611C',\n",
       "         '#F1920E',\n",
       "         '#FFC300']},\n",
       "       'coverage': 1,\n",
       "       'sizeRange': [0, 500],\n",
       "       'percentile': [0, 100],\n",
       "       'elevationPercentile': [0, 100],\n",
       "       'elevationScale': 5,\n",
       "       'enableElevationZoomFactor': True,\n",
       "       'colorAggregation': 'average',\n",
       "       'sizeAggregation': 'count',\n",
       "       'enable3d': False},\n",
       "      'hidden': False,\n",
       "      'textLabel': [{'field': None,\n",
       "        'color': [255, 255, 255],\n",
       "        'size': 18,\n",
       "        'offset': [0, 0],\n",
       "        'anchor': 'start',\n",
       "        'alignment': 'center',\n",
       "        'outlineWidth': 0,\n",
       "        'outlineColor': [255, 0, 0, 255],\n",
       "        'background': False,\n",
       "        'backgroundColor': [0, 0, 200, 255]}]},\n",
       "     'visualChannels': {'colorField': {'name': 'scaled', 'type': 'real'},\n",
       "      'colorScale': 'quantize',\n",
       "      'sizeField': None,\n",
       "      'sizeScale': 'linear'}}],\n",
       "   'effects': [],\n",
       "   'interactionConfig': {'tooltip': {'fieldsToShow': {'data_1': [{'name': 'distance_to_shop',\n",
       "        'format': None},\n",
       "       {'name': 'distance_to_hospital', 'format': None},\n",
       "       {'name': 'distance_to_park', 'format': None},\n",
       "       {'name': 'distance_to_station', 'format': None},\n",
       "       {'name': 'final', 'format': None}]},\n",
       "     'compareMode': False,\n",
       "     'compareType': 'absolute',\n",
       "     'enabled': True},\n",
       "    'brush': {'size': 0.5, 'enabled': False},\n",
       "    'geocoder': {'enabled': False},\n",
       "    'coordinate': {'enabled': False}},\n",
       "   'layerBlending': 'normal',\n",
       "   'overlayBlending': 'normal',\n",
       "   'splitMaps': [],\n",
       "   'animationConfig': {'currentTime': None, 'speed': 1},\n",
       "   'editor': {'features': [], 'visible': True}},\n",
       "  'mapState': {'bearing': 0,\n",
       "   'dragRotate': False,\n",
       "   'latitude': 51.129530822509096,\n",
       "   'longitude': 16.944302855738748,\n",
       "   'pitch': 0,\n",
       "   'zoom': 10.548058916916952,\n",
       "   'isSplit': False,\n",
       "   'isViewportSynced': True,\n",
       "   'isZoomLocked': False,\n",
       "   'splitMapViewports': []},\n",
       "  'mapStyle': {'styleType': 'dark-matter',\n",
       "   'topLayerGroups': {},\n",
       "   'visibleLayerGroups': {'label': True,\n",
       "    'road': True,\n",
       "    'border': False,\n",
       "    'building': True,\n",
       "    'water': True,\n",
       "    'land': True,\n",
       "    '3d building': False},\n",
       "   'threeDBuildingColor': [15.035172933000911,\n",
       "    15.035172933000911,\n",
       "    15.035172933000911],\n",
       "   'backgroundColor': [0, 0, 0],\n",
       "   'mapStyles': {}}}}"
      ]
     },
     "execution_count": 45,
     "metadata": {},
     "output_type": "execute_result"
    }
   ],
   "source": [
    "conf"
   ]
  },
  {
   "cell_type": "code",
   "execution_count": 46,
   "metadata": {},
   "outputs": [],
   "source": [
    "conf = kepler_map.config"
   ]
  },
  {
   "cell_type": "code",
   "execution_count": 37,
   "metadata": {},
   "outputs": [],
   "source": [
    "dfdrop = df.drop(columns=['normalized_shop', 'normalized_hospital', 'normalized_park', 'normalized_station', 'final', 'scaled_1'])"
   ]
  },
  {
   "cell_type": "code",
   "execution_count": 47,
   "metadata": {},
   "outputs": [],
   "source": [
    "pickle.dump(conf, open('./data/heatmap_config.p', 'wb'))"
   ]
  },
  {
   "cell_type": "code",
   "execution_count": 38,
   "metadata": {},
   "outputs": [],
   "source": [
    "pickle.dump(dfdrop, open('./data/heatmap_data.p', 'wb'))"
   ]
  },
  {
   "cell_type": "code",
   "execution_count": 39,
   "metadata": {},
   "outputs": [],
   "source": [
    "dfdrop.to_csv('./data/heatmap_data.csv', index=False)"
   ]
  },
  {
   "cell_type": "code",
   "execution_count": 30,
   "metadata": {},
   "outputs": [
    {
     "data": {
      "text/plain": [
       "{'version': 'v1',\n",
       " 'config': {'visState': {'filters': [],\n",
       "   'layers': [{'id': 'o5fsp5u',\n",
       "     'type': 'hexagon',\n",
       "     'config': {'dataId': 'data_1',\n",
       "      'label': 'point',\n",
       "      'color': [248, 149, 112],\n",
       "      'highlightColor': [252, 242, 26, 255],\n",
       "      'columns': {'lat': 'lat', 'lng': 'lon'},\n",
       "      'isVisible': True,\n",
       "      'visConfig': {'opacity': 0.8,\n",
       "       'worldUnitSize': 0.05,\n",
       "       'resolution': 8,\n",
       "       'colorRange': {'name': 'Global Warming',\n",
       "        'type': 'sequential',\n",
       "        'category': 'Uber',\n",
       "        'colors': ['#5A1846',\n",
       "         '#900C3F',\n",
       "         '#C70039',\n",
       "         '#E3611C',\n",
       "         '#F1920E',\n",
       "         '#FFC300']},\n",
       "       'coverage': 1,\n",
       "       'sizeRange': [0, 500],\n",
       "       'percentile': [0, 100],\n",
       "       'elevationPercentile': [0, 100],\n",
       "       'elevationScale': 5,\n",
       "       'enableElevationZoomFactor': True,\n",
       "       'colorAggregation': 'average',\n",
       "       'sizeAggregation': 'count',\n",
       "       'enable3d': False},\n",
       "      'hidden': False,\n",
       "      'textLabel': [{'field': None,\n",
       "        'color': [255, 255, 255],\n",
       "        'size': 18,\n",
       "        'offset': [0, 0],\n",
       "        'anchor': 'start',\n",
       "        'alignment': 'center',\n",
       "        'outlineWidth': 0,\n",
       "        'outlineColor': [255, 0, 0, 255],\n",
       "        'background': False,\n",
       "        'backgroundColor': [0, 0, 200, 255]}]},\n",
       "     'visualChannels': {'colorField': {'name': 'scaled_1', 'type': 'real'},\n",
       "      'colorScale': 'quantile',\n",
       "      'sizeField': None,\n",
       "      'sizeScale': 'linear'}}],\n",
       "   'effects': [],\n",
       "   'interactionConfig': {'tooltip': {'fieldsToShow': {'data_1': [{'name': 'distance_to_shop',\n",
       "        'format': None},\n",
       "       {'name': 'distance_to_hospital', 'format': None},\n",
       "       {'name': 'distance_to_park', 'format': None},\n",
       "       {'name': 'distance_to_station', 'format': None},\n",
       "       {'name': 'final', 'format': None}]},\n",
       "     'compareMode': False,\n",
       "     'compareType': 'absolute',\n",
       "     'enabled': True},\n",
       "    'brush': {'size': 0.5, 'enabled': False},\n",
       "    'geocoder': {'enabled': False},\n",
       "    'coordinate': {'enabled': False}},\n",
       "   'layerBlending': 'normal',\n",
       "   'overlayBlending': 'normal',\n",
       "   'splitMaps': [],\n",
       "   'animationConfig': {'currentTime': None, 'speed': 1},\n",
       "   'editor': {'features': [], 'visible': True}},\n",
       "  'mapState': {'bearing': 0,\n",
       "   'dragRotate': False,\n",
       "   'latitude': 51.08666536220248,\n",
       "   'longitude': 16.974808661883753,\n",
       "   'pitch': 0,\n",
       "   'zoom': 11.096117833833905,\n",
       "   'isSplit': False,\n",
       "   'isViewportSynced': True,\n",
       "   'isZoomLocked': False,\n",
       "   'splitMapViewports': []},\n",
       "  'mapStyle': {'styleType': 'dark-matter',\n",
       "   'topLayerGroups': {},\n",
       "   'visibleLayerGroups': {'label': True,\n",
       "    'road': True,\n",
       "    'border': False,\n",
       "    'building': True,\n",
       "    'water': True,\n",
       "    'land': True,\n",
       "    '3d building': False},\n",
       "   'threeDBuildingColor': [15.035172933000911,\n",
       "    15.035172933000911,\n",
       "    15.035172933000911],\n",
       "   'backgroundColor': [0, 0, 0],\n",
       "   'mapStyles': {}}}}"
      ]
     },
     "execution_count": 30,
     "metadata": {},
     "output_type": "execute_result"
    }
   ],
   "source": [
    "config = pickle.load(open(\"./data/heatmap_config.p\", \"rb\"))\n",
    "config"
   ]
  }
 ],
 "metadata": {
  "kernelspec": {
   "display_name": "venv",
   "language": "python",
   "name": "python3"
  },
  "language_info": {
   "codemirror_mode": {
    "name": "ipython",
    "version": 3
   },
   "file_extension": ".py",
   "mimetype": "text/x-python",
   "name": "python",
   "nbconvert_exporter": "python",
   "pygments_lexer": "ipython3",
   "version": "3.10.12"
  }
 },
 "nbformat": 4,
 "nbformat_minor": 2
}
